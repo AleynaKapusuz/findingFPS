{
  "nbformat": 4,
  "nbformat_minor": 0,
  "metadata": {
    "colab": {
      "provenance": [],
      "authorship_tag": "ABX9TyPC+IoOIH600MGxOwqjEmbI",
      "include_colab_link": true
    },
    "kernelspec": {
      "name": "python3",
      "display_name": "Python 3"
    },
    "language_info": {
      "name": "python"
    }
  },
  "cells": [
    {
      "cell_type": "markdown",
      "metadata": {
        "id": "view-in-github",
        "colab_type": "text"
      },
      "source": [
        "<a href=\"https://colab.research.google.com/github/AleynaKapusuz/findingFPS/blob/main/FindingFPS.ipynb\" target=\"_parent\"><img src=\"https://colab.research.google.com/assets/colab-badge.svg\" alt=\"Open In Colab\"/></a>"
      ]
    },
    {
      "cell_type": "code",
      "execution_count": null,
      "metadata": {
        "id": "mcDsQTjNTX2z"
      },
      "outputs": [],
      "source": [
        "import cv2\n",
        "import time\n",
        "import mediapipe as mp"
      ]
    },
    {
      "cell_type": "code",
      "source": [
        "cap = cv2.VideoCapture(0)\n",
        "\n",
        "pTime, cTime = 0, 0\n",
        "\n",
        "while True: # Her bir frame in içine girmek için while\n",
        "    _ , img = cap.read()\n",
        "    cTime = time.time()\n",
        "    fps = 1 / (cTime - pTime)\n",
        "    pTime = cTime\n",
        "    cv2.putText(img, \"FPS: \"+ str(int(fps)), (10,75), cv2.FONT_HERSHEY_PLAIN, 2, (255,0,0))\n",
        "\n",
        "    cv2.imshow(\"img\", img)\n",
        "    cv2.waitKey(1)"
      ],
      "metadata": {
        "id": "Pq-yfNHwjMwA"
      },
      "execution_count": null,
      "outputs": []
    }
  ]
}